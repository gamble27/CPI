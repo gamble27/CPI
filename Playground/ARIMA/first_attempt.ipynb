{
 "cells": [
  {
   "cell_type": "code",
   "execution_count": 1,
   "metadata": {
    "collapsed": true,
    "pycharm": {
     "is_executing": false
    }
   },
   "outputs": [],
   "source": [
    "import pandas as pd\n",
    "import numpy as np"
   ]
  },
  {
   "cell_type": "code",
   "execution_count": 2,
   "outputs": [],
   "source": [
    "import sys\n",
    "sys.path.append(\"..\")\n",
    "sys.path.append(\"/dataset\")"
   ],
   "metadata": {
    "collapsed": false,
    "pycharm": {
     "name": "#%%\n",
     "is_executing": false
    }
   }
  },
  {
   "cell_type": "code",
   "execution_count": 3,
   "outputs": [],
   "source": [
    "ds = pd.read_csv(\"/home/olga/Projects/CPI/dataset/CI_2015_2018.csv\", header=None)\n",
    "ds.head()\n",
    "values = ds.to_numpy(dtype=float)[:,1]#.reshape((45,1))\n",
    "values = values[::-1] # todo: ?????"
   ],
   "metadata": {
    "collapsed": false,
    "pycharm": {
     "name": "#%%\n",
     "is_executing": false
    }
   }
  },
  {
   "cell_type": "code",
   "execution_count": 4,
   "outputs": [],
   "source": [
    "# first method\n",
    "MAX_LAG = 12\n",
    "time_series_1 = []\n",
    "for i in range(MAX_LAG):\n",
    "    time_series_1.append(values[i:values.shape[0]-MAX_LAG+i])\n",
    "time_series_1 = np.array(time_series_1)"
   ],
   "metadata": {
    "collapsed": false,
    "pycharm": {
     "name": "#%%\n",
     "is_executing": false
    }
   }
  },
  {
   "cell_type": "code",
   "execution_count": 5,
   "outputs": [],
   "source": [
    "# second_method\n",
    "time_series_2 = [[] for _ in range(MAX_LAG)]\n",
    "index_out_of_bounds_flag = False\n",
    "for i in range(0, values.shape[0], MAX_LAG):\n",
    "    for j in range(MAX_LAG):\n",
    "        if i+j >= values.shape[0]:\n",
    "            index_out_of_bounds_flag = True\n",
    "            break\n",
    "        time_series_2[j].append(values[i+j])\n",
    "    if index_out_of_bounds_flag:\n",
    "        # todo: fill the list to corresponding size?\n",
    "        break\n",
    "shape = max([len(series) for series in time_series_2])\n",
    "for i in range(len(time_series_2)):\n",
    "    time_series_2[i] = np.array(time_series_2[i] + [0]*(shape-len(time_series_2[i])))\n",
    "time_series_2 = np.array(time_series_2)"
   ],
   "metadata": {
    "collapsed": false,
    "pycharm": {
     "name": "#%%\n",
     "is_executing": false
    }
   }
  },
  {
   "cell_type": "markdown",
   "source": [
    "#### Preambula:\n",
    "\n",
    "Now we have time_series_1 and 2 $ X_t, t \\in \\overline{1,MAX\\_LAG} $,\n",
    "so we can try to analyze the problem :)\n",
    "\n",
    "#### Objective:\n",
    "\n",
    "Using analytical __autocorrelation function__\n",
    "define parameters for ARIMA model"
   ],
   "metadata": {
    "collapsed": false
   }
  },
  {
   "cell_type": "code",
   "execution_count": 6,
   "outputs": [
    {
     "name": "stdout",
     "text": [
      "12\n"
     ],
     "output_type": "stream"
    },
    {
     "data": {
      "text/plain": "array([[1.        , 0.62161142],\n       [0.62161142, 1.        ]])"
     },
     "metadata": {},
     "output_type": "execute_result",
     "execution_count": 6
    }
   ],
   "source": [
    "# Pearson's correlation method 1\n",
    "print(MAX_LAG)\n",
    "np.corrcoef(time_series_1[0,:], time_series_1[1,:])"
   ],
   "metadata": {
    "collapsed": false,
    "pycharm": {
     "name": "#%%\n",
     "is_executing": false
    }
   }
  },
  {
   "cell_type": "code",
   "execution_count": 7,
   "outputs": [
    {
     "name": "stdout",
     "text": [
      "12\n"
     ],
     "output_type": "stream"
    },
    {
     "data": {
      "text/plain": "array([[1.       , 0.9127423],\n       [0.9127423, 1.       ]])"
     },
     "metadata": {},
     "output_type": "execute_result",
     "execution_count": 7
    }
   ],
   "source": [
    "# Pearson's correlation method 2\n",
    "print(MAX_LAG)\n",
    "np.corrcoef(time_series_2[0,:], time_series_2[1,:])\n",
    "\n"
   ],
   "metadata": {
    "collapsed": false,
    "pycharm": {
     "name": "#%%\n",
     "is_executing": false
    }
   }
  }
 ],
 "metadata": {
  "kernelspec": {
   "name": "pycharm-8300f7de",
   "language": "python",
   "display_name": "PyCharm (CPI)"
  },
  "language_info": {
   "codemirror_mode": {
    "name": "ipython",
    "version": 2
   },
   "file_extension": ".py",
   "mimetype": "text/x-python",
   "name": "python",
   "nbconvert_exporter": "python",
   "pygments_lexer": "ipython2",
   "version": "2.7.6"
  },
  "pycharm": {
   "stem_cell": {
    "cell_type": "raw",
    "source": [],
    "metadata": {
     "collapsed": false
    }
   }
  }
 },
 "nbformat": 4,
 "nbformat_minor": 0
}